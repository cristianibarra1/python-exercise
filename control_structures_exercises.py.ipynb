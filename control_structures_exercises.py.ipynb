{
 "cells": [
  {
   "cell_type": "code",
   "execution_count": 97,
   "id": "88e787e1",
   "metadata": {},
   "outputs": [
    {
     "name": "stdout",
     "output_type": "stream",
     "text": [
      "weekday\n"
     ]
    }
   ],
   "source": [
    "daychose= 'monday'\n",
    "if daychose== 'monday':\n",
    "    print ('weekday')"
   ]
  },
  {
   "cell_type": "code",
   "execution_count": 99,
   "id": "798e4c5f",
   "metadata": {},
   "outputs": [
    {
     "name": "stdout",
     "output_type": "stream",
     "text": [
      "current day: Monday\n",
      "Monday\n"
     ]
    }
   ],
   "source": [
    "##prompt the user for a day of the week, print out whether the day is Monday or not\n",
    "day_chosen = input('current day: ')\n",
    "if day_chosen == 'Monday':\n",
    "    print(day_chosen)\n"
   ]
  },
  {
   "cell_type": "code",
   "execution_count": null,
   "id": "44881537",
   "metadata": {},
   "outputs": [],
   "source": [
    "#prompt the user for a day of the week, print out whether the day is a weekday or a weekend\n",
    "day_chosen = input('Choose a day of the week: ')\n",
    "if day_chosen == 'Saturday' or day_chosen == 'Sunday':\n",
    "    print('This is a weekend.')\n",
    "else:\n",
    "    print('This is a weekday.')"
   ]
  },
  {
   "cell_type": "code",
   "execution_count": 104,
   "id": "f12539cb",
   "metadata": {},
   "outputs": [
    {
     "name": "stdout",
     "output_type": "stream",
     "text": [
      "weekdays\n"
     ]
    }
   ],
   "source": [
    "day= 'saturday' \n",
    "if day== 'satuday' or day== 'sunday':\n",
    "    print('weekend')\n",
    "else:\n",
    "    print('weekdays')"
   ]
  },
  {
   "cell_type": "code",
   "execution_count": 77,
   "id": "b140ac3a",
   "metadata": {},
   "outputs": [
    {
     "name": "stdout",
     "output_type": "stream",
     "text": [
      "How many hours? \n",
      "20\n",
      "hourly rate? \n",
      "21\n",
      "pay$240.0.\n"
     ]
    }
   ],
   "source": [
    "#create variables and make up values for\n",
    "#the number of hours worked in one week\n",
    "#the hourly rate\n",
    "#how much the week's paycheck will be\n",
    "#write the python code that calculates the weekly paycheck.\n",
    "#You get paid time and a half if you work more than 40 hours\n",
    "hours = int(input('How many hours? \\n'))\n",
    "hourly = float(input('hourly rate? \\n'))\n",
    "if hours > 40:\n",
    "    overtime_hours = hours - 40\n",
    "    hours = 40\n",
    "else:\n",
    "    overtime_hours = 0\n",
    "print(f'pay${(hours * hourly_rate)}.')"
   ]
  },
  {
   "cell_type": "code",
   "execution_count": 107,
   "id": "0d733946",
   "metadata": {},
   "outputs": [
    {
     "name": "stdout",
     "output_type": "stream",
     "text": [
      "pay:$1200.\n"
     ]
    }
   ],
   "source": [
    "hours=40\n",
    "hourly=30\n",
    "if hours > 40:\n",
    "    overtime_hours = hours - 40\n",
    "    hours = 40\n",
    "else:\n",
    "    overtime_hours = 0\n",
    "    print(f'pay:${(hours*hourly)}.')"
   ]
  },
  {
   "cell_type": "code",
   "execution_count": 38,
   "id": "1b08616a",
   "metadata": {},
   "outputs": [
    {
     "name": "stdout",
     "output_type": "stream",
     "text": [
      "5\n"
     ]
    }
   ],
   "source": [
    "#While Create an integer variable i with a value of 5.\n",
    "#Create a while loop that runs so long as i is less than or equal to 15\n",
    "#Each loop iteration, output the current value of i, then increment i by one.\n",
    "#Your output should look like this:\n",
    "i = 5\n",
    "while i <= 15:\n",
    "    print(i)\n",
    "    i += 1"
   ]
  },
  {
   "cell_type": "code",
   "execution_count": 30,
   "id": "4d7d25b4",
   "metadata": {},
   "outputs": [
    {
     "name": "stdout",
     "output_type": "stream",
     "text": [
      "0\n",
      "2\n",
      "4\n",
      "6\n",
      "8\n",
      "10\n",
      "12\n",
      "14\n",
      "16\n",
      "18\n",
      "20\n",
      "22\n",
      "24\n",
      "26\n",
      "28\n",
      "30\n",
      "32\n",
      "34\n",
      "36\n",
      "38\n",
      "40\n",
      "42\n",
      "44\n",
      "46\n",
      "48\n",
      "50\n",
      "52\n",
      "54\n",
      "56\n",
      "58\n",
      "60\n",
      "62\n",
      "64\n",
      "66\n",
      "68\n",
      "70\n",
      "72\n",
      "74\n",
      "76\n",
      "78\n",
      "80\n",
      "82\n",
      "84\n",
      "86\n",
      "88\n",
      "90\n",
      "92\n",
      "94\n",
      "96\n",
      "98\n",
      "100\n"
     ]
    }
   ],
   "source": [
    "#Create a while loop that will count by 2's starting with 0 and ending at 100. \n",
    "#Follow each number with a new line.\n",
    "for i in range(0,102,2):\n",
    "    print(i)"
   ]
  },
  {
   "cell_type": "code",
   "execution_count": 27,
   "id": "aa940240",
   "metadata": {},
   "outputs": [
    {
     "name": "stdout",
     "output_type": "stream",
     "text": [
      "100\n",
      "95\n",
      "90\n",
      "85\n",
      "80\n",
      "75\n",
      "70\n",
      "65\n",
      "60\n",
      "55\n",
      "50\n",
      "45\n",
      "40\n",
      "35\n",
      "30\n",
      "25\n",
      "20\n",
      "15\n",
      "10\n",
      "5\n",
      "0\n",
      "-5\n",
      "-10\n"
     ]
    }
   ],
   "source": [
    "#Alter your loop to count backwards by 5's from 100 to -10.\n",
    "i = 100\n",
    "while i >= -10:\n",
    "    print(i)\n",
    "    i -= 5"
   ]
  },
  {
   "cell_type": "code",
   "execution_count": 26,
   "id": "c7abed43",
   "metadata": {},
   "outputs": [
    {
     "name": "stdout",
     "output_type": "stream",
     "text": [
      "2\n",
      "4\n",
      "16\n",
      "256\n",
      "65536\n"
     ]
    }
   ],
   "source": [
    "#Create a while loop that starts at 2, and displays \n",
    "#the number squared on each line while the number is less than 1,000,000. Output should equal:\n",
    "i = 2\n",
    "while i < 1_000_000:\n",
    "    print(i)\n",
    "    i = i * i"
   ]
  },
  {
   "cell_type": "code",
   "execution_count": 67,
   "id": "fe99cb8b",
   "metadata": {},
   "outputs": [
    {
     "name": "stdout",
     "output_type": "stream",
     "text": [
      "100\n",
      "95\n",
      "90\n",
      "85\n",
      "80\n",
      "75\n",
      "70\n",
      "65\n",
      "60\n",
      "55\n",
      "50\n",
      "45\n",
      "40\n",
      "35\n",
      "30\n",
      "25\n",
      "20\n",
      "15\n",
      "10\n",
      "5\n"
     ]
    }
   ],
   "source": [
    "#Write a loop that uses print to create the output shown below.\n",
    "for i in range(100, 0, -5):\n",
    "    print(i)"
   ]
  },
  {
   "cell_type": "code",
   "execution_count": 83,
   "id": "e1d0e3fc",
   "metadata": {},
   "outputs": [
    {
     "name": "stdout",
     "output_type": "stream",
     "text": [
      "5 x 1 = 5\n",
      "5 x 2 = 10\n",
      "5 x 3 = 15\n",
      "5 x 4 = 20\n",
      "5 x 5 = 25\n",
      "5 x 6 = 30\n",
      "5 x 7 = 35\n",
      "5 x 8 = 40\n",
      "5 x 9 = 45\n",
      "5 x 10 = 50\n"
     ]
    }
   ],
   "source": [
    "#Write some code that prompts the user for a number, then shows a multiplication table up through 10 for that number.\n",
    "#For example, if the user enters 7, your program should output:\n",
    "user_number = 5\n",
    "i = 1\n",
    "for x in range(i, 11):\n",
    "    print(f'{user_number} x {i} = {user_number * x}')\n",
    "    i += 1"
   ]
  },
  {
   "cell_type": "code",
   "execution_count": 80,
   "id": "7296fbf4",
   "metadata": {},
   "outputs": [
    {
     "name": "stdout",
     "output_type": "stream",
     "text": [
      "1\n",
      "22\n",
      "333\n",
      "4444\n",
      "55555\n",
      "666666\n",
      "7777777\n",
      "88888888\n",
      "999999999\n"
     ]
    }
   ],
   "source": [
    "#Create a for loop that uses print to create the output shown below.\n",
    "i = 1\n",
    "for x in range(i, 10):\n",
    "    print(f'{i}' * i)\n",
    "    i+= 1"
   ]
  },
  {
   "cell_type": "code",
   "execution_count": 109,
   "id": "20f4df75",
   "metadata": {},
   "outputs": [
    {
     "name": "stdout",
     "output_type": "stream",
     "text": [
      "Enter an odd number between 1 and 50: 27\n",
      "Here is an odd number: 1\n",
      "Here is an odd number: 3\n",
      "Here is an odd number: 5\n",
      "Here is an odd number: 7\n",
      "Here is an odd number: 9\n",
      "Here is an odd number: 11\n",
      "Here is an odd number: 13\n",
      "Here is an odd number: 15\n",
      "Here is an odd number: 17\n",
      "Here is an odd number: 19\n",
      "Here is an odd number: 21\n",
      "Here is an odd number: 23\n",
      "Here is an odd number: 25\n",
      "Yikes! Skipping number: 27\n",
      "Here is an odd number: 29\n",
      "Here is an odd number: 31\n",
      "Here is an odd number: 33\n",
      "Here is an odd number: 35\n",
      "Here is an odd number: 37\n",
      "Here is an odd number: 39\n",
      "Here is an odd number: 41\n",
      "Here is an odd number: 43\n",
      "Here is an odd number: 45\n",
      "Here is an odd number: 47\n",
      "Here is an odd number: 49\n"
     ]
    }
   ],
   "source": [
    "#Prompt the user for an odd number between 1 and 50. Use a loop and a break statement to \n",
    "#continue prompting the user if they enter invalid input. (Hint: use the isdigit method on strings to \n",
    "#determine this). Use a loop and the continue statement to output all the odd numbers \n",
    "#between 1 and 50, except for the number the user entered.\n",
    "user_input = input('Enter an odd number between 1 and 50: ')\n",
    "while not user_input.isdigit() or int(user_input) > 50 or int(user_input) < 1 or int(user_input) % 2 == 0:\n",
    "    user_input = input('Not a valid number, try again.  Enter an odd number between 1 and 50 \\n')\n",
    "\n",
    "user_input = int(user_input)\n",
    "for p in range(51):\n",
    "    if p == user_input:\n",
    "        print(f'Yikes! Skipping number: {p}')\n",
    "        continue\n",
    "    if p % 2 == 0:\n",
    "        continue\n",
    "    print(f'Here is an odd number: {p}')\n"
   ]
  },
  {
   "cell_type": "code",
   "execution_count": 87,
   "id": "06e9f317",
   "metadata": {},
   "outputs": [
    {
     "name": "stdout",
     "output_type": "stream",
     "text": [
      "Enter a positive number: 9\n",
      "0\n",
      "1\n",
      "2\n",
      "3\n",
      "4\n",
      "5\n",
      "6\n",
      "7\n",
      "8\n"
     ]
    }
   ],
   "source": [
    "user_number = int(input('Enter a positive number: '))\n",
    "if user_number > 0:\n",
    "    for n in range(0,user_number):\n",
    "        print(n)\n",
    "else:\n",
    "    print(f'{user_number} is not a positive number.')"
   ]
  },
  {
   "cell_type": "code",
   "execution_count": 89,
   "id": "cd0f5859",
   "metadata": {},
   "outputs": [
    {
     "name": "stdout",
     "output_type": "stream",
     "text": [
      "7\n",
      "14\n",
      "21\n",
      "28\n",
      "35\n",
      "42\n",
      "49\n",
      "56\n",
      "63\n",
      "70\n",
      "77\n",
      "84\n",
      "91\n",
      "98\n"
     ]
    }
   ],
   "source": [
    "#Write a program that prints the numbers from 1 to 100.\n",
    "#For multiples of three print \"Fizz\" instead of the number\n",
    "#For the multiples of five print \"Buzz\".\n",
    "#For numbers which are multiples of both three and five print \"FizzBuzz\".\n",
    "for n in range(1,101):\n",
    "    output = ''\n",
    "    if n % 3 == 0:\n",
    "        output += 'Fizz'\n",
    "    if n % 5 == 0:\n",
    "        output += 'Buzz'\n",
    "    if n % 7 == 0:\n",
    "        output += 'Ram'\n",
    "        print(n)"
   ]
  },
  {
   "cell_type": "code",
   "execution_count": 111,
   "id": "a9502bab",
   "metadata": {},
   "outputs": [
    {
     "name": "stdout",
     "output_type": "stream",
     "text": [
      "What number would you like to go up to? 5\n",
      "Here are your numbers!\n",
      "\n",
      "number | squared | cubed\n",
      "------ | ------- | -----\n",
      "1      | 1       | 1    \n",
      "2      | 4       | 8    \n",
      "3      | 9       | 27   \n",
      "4      | 16      | 64   \n",
      "5      | 25      | 125  \n"
     ]
    }
   ],
   "source": [
    "#Display a table of powers.\n",
    "#Prompt the user to enter an integer.\n",
    "#Display a table of squares and cubes from 1 to the value entered.\n",
    "#Ask if the user wants to continue.\n",
    "#Assume that the user will enter valid data.\n",
    "#Only continue if the user agrees to.\n",
    "user_number = input('What number would you like to go up to? ')\n",
    "int_user_number = int(user_number)\n",
    "user_number_squared = int_user_number * int_user_number\n",
    "user_number_cubed = int_user_number ** int_user_number\n",
    "print('Here are your numbers!\\n')\n",
    "print('number | squared | cubed')\n",
    "print('------ | ------- | -----')\n",
    "for i in range(1,int_user_number + 1):\n",
    "    print(f'{i:<6} | {i ** 2:<7} | {i ** 3:<5}')\n"
   ]
  }
 ],
 "metadata": {
  "kernelspec": {
   "display_name": "Python 3 (ipykernel)",
   "language": "python",
   "name": "python3"
  },
  "language_info": {
   "codemirror_mode": {
    "name": "ipython",
    "version": 3
   },
   "file_extension": ".py",
   "mimetype": "text/x-python",
   "name": "python",
   "nbconvert_exporter": "python",
   "pygments_lexer": "ipython3",
   "version": "3.9.12"
  }
 },
 "nbformat": 4,
 "nbformat_minor": 5
}
