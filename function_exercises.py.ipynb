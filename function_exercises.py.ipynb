{
 "cells": [
  {
   "cell_type": "code",
   "execution_count": 228,
   "id": "17bc1cc5",
   "metadata": {},
   "outputs": [
    {
     "name": "stdout",
     "output_type": "stream",
     "text": [
      "True\n",
      "True\n"
     ]
    }
   ],
   "source": [
    "# Define a function named is_two. It should accept one input and return\n",
    "# True if the passed input is either the number or the string 2, False otherwise.\n",
    "input=2\n",
    "#define is_two as input \n",
    "def is_two(input):\n",
    "#input has to equal 2 or else false \n",
    "    if (input==2) or (input=='2'):\n",
    "        return True \n",
    "    else:\n",
    "        return False\n",
    "# printed  1 and 2 to get false and true \n",
    "print(is_two('2')) \n",
    "print(is_two(2))"
   ]
  },
  {
   "cell_type": "code",
   "execution_count": null,
   "id": "5bbb0484",
   "metadata": {},
   "outputs": [],
   "source": []
  },
  {
   "cell_type": "code",
   "execution_count": 236,
   "id": "b83b71dc",
   "metadata": {},
   "outputs": [
    {
     "name": "stdout",
     "output_type": "stream",
     "text": [
      "True\n",
      "False\n"
     ]
    }
   ],
   "source": [
    "# Define a function named is_vowel. It should return True if the passed string is a vowel, False otherwise.\n",
    "#define is_vowel as letter.\n",
    "def is_vowel(letter):\n",
    "    vowels = ['a', 'e', 'i', 'o', 'u']\n",
    "#   vowels= all the aeiou in list form,while letter would get lower case\n",
    "    if letter.lower() in vowels:\n",
    "        return True\n",
    "    else:\n",
    "        return False \n",
    "#define letter as vowel so vowel could be lower case aka true \n",
    "def letter(vowel):\n",
    "    if  vowels==letter.lower():\n",
    "        return True\n",
    "    else:\n",
    "        return False\n",
    "#print  two differnt letter to see if true or false works \n",
    "print(is_vowel('a'))\n",
    "print(is_vowel('g'))"
   ]
  },
  {
   "cell_type": "code",
   "execution_count": 223,
   "id": "bd43c8b8",
   "metadata": {},
   "outputs": [
    {
     "name": "stdout",
     "output_type": "stream",
     "text": [
      "False\n",
      "True\n"
     ]
    }
   ],
   "source": [
    "#Define a function named is_consonant. It should return True if the passed string is a consonant, \n",
    "# False otherwise. Use your is_vowel function to accomplish this.\n",
    "#define is_consonant\n",
    "def is_consonant(letter):\n",
    "#  while using the is_vowel in this if statement to return false \n",
    "    if is_vowel(letter) == False:\n",
    "        return True\n",
    "    else:\n",
    "        return False\n",
    "#print  two differnt letter to see if true or false works \n",
    "print(is_consonant('u'))\n",
    "print(is_consonant('l'))"
   ]
  },
  {
   "cell_type": "code",
   "execution_count": 224,
   "id": "65391082",
   "metadata": {},
   "outputs": [
    {
     "name": "stdout",
     "output_type": "stream",
     "text": [
      "Come thru \n",
      "Whe,.when.when\n"
     ]
    }
   ],
   "source": [
    "#Define a function that accepts a string that is a word. \n",
    "#The function should capitalize the first letter of the word if the word starts with a consonant.\n",
    "#define capitalize as word \n",
    "def capitalize(word):\n",
    "#word= word capotalize to make the first letter capital\n",
    "        word = word.capitalize()\n",
    "        return word\n",
    "#printed two different words to see if they both work\n",
    "print(capitalize('come thru '))\n",
    "print(capitalize('whe,.when.when'))"
   ]
  },
  {
   "cell_type": "code",
   "execution_count": 225,
   "id": "c4ce9fec",
   "metadata": {},
   "outputs": [
    {
     "name": "stdout",
     "output_type": "stream",
     "text": [
      "$20.00\n",
      "$2.00\n"
     ]
    }
   ],
   "source": [
    "##Define a function named calculate_tip. It should accept a tip percentage (a number between 0 and 1)\n",
    "##and the bill total, and return the amount to tip\n",
    "#define calculate_tips as tip_percent,bill\n",
    "def calculate_tip(tip_percent,bill):\n",
    "#tip will equal both the total of bills and a precentage of tip\n",
    "    tip = bill * tip_percent \n",
    "    return tip\n",
    "#(f' is for creating print statement to comeout with it,{calcilate_tip(tip_percent,bill)}:.2f-how many decimal back )\n",
    "print(f'${calculate_tip(.1,200):.2f}')\n",
    "print(f'${calculate_tip(.1,20):.2f}')"
   ]
  },
  {
   "cell_type": "code",
   "execution_count": 150,
   "id": "182deb94",
   "metadata": {},
   "outputs": [
    {
     "name": "stdout",
     "output_type": "stream",
     "text": [
      "discount = $7.50\n"
     ]
    }
   ],
   "source": [
    "# Define a function named apply_discount. It should accept a original price,\n",
    "# and a discount percentage, and return the price after the discount is applied.\n",
    "#define apply_discount within original,discount \n",
    "def apply_discount(original,discount):\n",
    "#math problem created a discount_total= from the functuin below \n",
    "    discount_total = original - (original * discount)\n",
    "    return discount_total\n",
    "#f'is to created print text, apply_discount(original,discount):.2f-back decimals\n",
    "print(f'discount=${apply_discount(10, .25):.2f}')"
   ]
  },
  {
   "cell_type": "code",
   "execution_count": 158,
   "id": "1b523ba8",
   "metadata": {},
   "outputs": [
    {
     "name": "stdout",
     "output_type": "stream",
     "text": [
      "new number: 150444443322\n"
     ]
    }
   ],
   "source": [
    "# Define a function named handle_commas. It should accept a string that is a number\n",
    "#  that contains commas in it as input, and return a number as output.\n",
    "#define handle_commas\n",
    "def handle_commas(number):\n",
    "#number will not return ,\n",
    "    number = number.replace(',', '')\n",
    "    return int(number)\n",
    "#f'is to created print text, handle_commas(number))\n",
    "print(f'new number:',handle_commas('150,444,443,322'))"
   ]
  },
  {
   "cell_type": "code",
   "execution_count": 195,
   "id": "dd4ebcef",
   "metadata": {},
   "outputs": [
    {
     "name": "stdout",
     "output_type": "stream",
     "text": [
      "C\n"
     ]
    }
   ],
   "source": [
    "#Define a function named get_letter_grade. \n",
    "#It should accept a number and return the letter grade associated with that number (A-F).\n",
    "#define get_letter_grade\n",
    "def get_letter_grade(number):\n",
    "#number becomes a int again, created a list for grade_test to get the rangest of grades\n",
    "    number = int(number)\n",
    "    grade_test = {'A': [90,100],'B': [80,89],'C': [70,79],'D': [60,69],'F': [0,59]}\n",
    "#gettting grade_letter in the functin of grade_test.\n",
    "    for grade_letter in grade_test.keys():\n",
    "#creating upper by picking both numbers from every list.\n",
    "        upper = grade_test[grade_letter][1]\n",
    "        lower = grade_test[grade_letter][0]\n",
    "#making sure the grade is. between the keys\n",
    "        if number >= lower and number <= upper:\n",
    "            return grade_letter\n",
    "#checking if it works \n",
    "print(get_letter_grade(70))"
   ]
  },
  {
   "cell_type": "code",
   "execution_count": 199,
   "id": "3b02ce87",
   "metadata": {},
   "outputs": [
    {
     "name": "stdout",
     "output_type": "stream",
     "text": [
      "ths nt t\n"
     ]
    }
   ],
   "source": [
    "# Define a function named remove_vowels that accepts a string and returns a string with all the vowels removed.\n",
    "#define remove_vowel as word \n",
    "def remove_vowel(word):\n",
    "#replaces vowels with a empty space\n",
    "    for vowel in 'aeiou':\n",
    "        word = word.replace(vowel, '')\n",
    "    return word\n",
    "#checking \n",
    "print(remove_vowel('this aint it'))"
   ]
  },
  {
   "cell_type": "code",
   "execution_count": null,
   "id": "c707910e",
   "metadata": {},
   "outputs": [],
   "source": []
  },
  {
   "cell_type": "code",
   "execution_count": 221,
   "id": "ebfa225c",
   "metadata": {},
   "outputs": [
    {
     "name": "stdout",
     "output_type": "stream",
     "text": [
      "wow2020_wow2020\n"
     ]
    }
   ],
   "source": [
    "# Define a function named normalize_name. It should accept a string and return a valid python identifier, that is:\n",
    "# anything that is not a valid python identifier should be removed\n",
    "# leading and trailing whitespace should be removed\n",
    "# everything should be lowercase\n",
    "# spaces should be replaced with underscores\n",
    "# for example:\n",
    "# Name will become name\n",
    "# First Name will become first_name\n",
    "# % Completed will become completed\n",
    "#created a letter value \n",
    "LETTERS = ' _abcdefghijklmnopqrstuvwxyz0123456789'\n",
    "#define normalize_name \n",
    "def normalize_name(python_id):\n",
    "#making sure everthing gets lower case \n",
    "    python_id = python_id.lower()\n",
    "    chars = []\n",
    "    for character in python_id:\n",
    "#\n",
    "        if character in LETTERS:\n",
    "            chars.append(character)\n",
    "#\n",
    "    return ''.join(chars).strip().replace(' ', '_')\n",
    "#\n",
    "\n",
    "print(normalize_name('Wow2020 wow2020'))"
   ]
  },
  {
   "cell_type": "code",
   "execution_count": 238,
   "id": "ea16664a",
   "metadata": {},
   "outputs": [
    {
     "name": "stdout",
     "output_type": "stream",
     "text": [
      "[1, 3, 6, 10]\n"
     ]
    }
   ],
   "source": [
    "# Write a function named cumulative_sum that accepts a list of numbers and \n",
    "# returns a list that is the cumulative sum of the numbers in the list.\n",
    "# cumulative_sum([1, 1, 1]) returns [1, 2, 3]\n",
    "# cumulative_sum([1, 2, 3, 4]) returns [1, 3, 6, 10]\n",
    "#define cumulative_sum \n",
    "def cumulative_sum(list):\n",
    "#sum=0 while creating a new list \n",
    "    cumulative_sum = 0\n",
    "    new =[]\n",
    "#0=0+i so let say the list is 1,2,3 will be like this 1=1+i\n",
    "    for i in list:\n",
    "        cumulative_sum = cumulative_sum + i\n",
    "        new.append(cumulative_sum)\n",
    "    return new\n",
    "#print out new list \n",
    "print(cumulative_sum([1, 2, 3, 4]))"
   ]
  },
  {
   "cell_type": "code",
   "execution_count": null,
   "id": "81cb77dc",
   "metadata": {},
   "outputs": [],
   "source": []
  }
 ],
 "metadata": {
  "kernelspec": {
   "display_name": "Python 3 (ipykernel)",
   "language": "python",
   "name": "python3"
  },
  "language_info": {
   "codemirror_mode": {
    "name": "ipython",
    "version": 3
   },
   "file_extension": ".py",
   "mimetype": "text/x-python",
   "name": "python",
   "nbconvert_exporter": "python",
   "pygments_lexer": "ipython3",
   "version": "3.9.12"
  }
 },
 "nbformat": 4,
 "nbformat_minor": 5
}
